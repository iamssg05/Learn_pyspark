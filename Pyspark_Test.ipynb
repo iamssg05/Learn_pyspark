{
  "nbformat": 4,
  "nbformat_minor": 0,
  "metadata": {
    "colab": {
      "name": "Pyspark_Test.ipynb",
      "provenance": [],
      "authorship_tag": "ABX9TyMTHyrunMx7n5zARTprjH/d",
      "include_colab_link": true
    },
    "kernelspec": {
      "name": "python3",
      "display_name": "Python 3"
    },
    "language_info": {
      "name": "python"
    }
  },
  "cells": [
    {
      "cell_type": "markdown",
      "metadata": {
        "id": "view-in-github",
        "colab_type": "text"
      },
      "source": [
        "<a href=\"https://colab.research.google.com/github/iamssg05/Learn_pyspark/blob/master/Pyspark_Test.ipynb\" target=\"_parent\"><img src=\"https://colab.research.google.com/assets/colab-badge.svg\" alt=\"Open In Colab\"/></a>"
      ]
    },
    {
      "cell_type": "code",
      "execution_count": null,
      "metadata": {
        "colab": {
          "base_uri": "https://localhost:8080/"
        },
        "id": "h7a3YZTendxb",
        "outputId": "f63f5010-1262-441b-82b9-2c8bc8cadb4a"
      },
      "outputs": [
        {
          "output_type": "stream",
          "name": "stdout",
          "text": [
            "Requirement already satisfied: pandas in /usr/local/lib/python3.7/dist-packages (1.3.5)\n",
            "Requirement already satisfied: python-dateutil>=2.7.3 in /usr/local/lib/python3.7/dist-packages (from pandas) (2.8.2)\n",
            "Requirement already satisfied: pytz>=2017.3 in /usr/local/lib/python3.7/dist-packages (from pandas) (2018.9)\n",
            "Requirement already satisfied: numpy>=1.17.3 in /usr/local/lib/python3.7/dist-packages (from pandas) (1.21.5)\n",
            "Requirement already satisfied: six>=1.5 in /usr/local/lib/python3.7/dist-packages (from python-dateutil>=2.7.3->pandas) (1.15.0)\n"
          ]
        }
      ],
      "source": [
        "!pip install pandas\n"
      ]
    },
    {
      "cell_type": "code",
      "source": [
        "!pip install pyspark"
      ],
      "metadata": {
        "colab": {
          "base_uri": "https://localhost:8080/"
        },
        "id": "fNK_rPbon9c0",
        "outputId": "c714588b-6f7e-4bd9-8e41-aca7c738d144"
      },
      "execution_count": null,
      "outputs": [
        {
          "output_type": "stream",
          "name": "stdout",
          "text": [
            "Collecting pyspark\n",
            "  Downloading pyspark-3.2.1.tar.gz (281.4 MB)\n",
            "\u001b[K     |████████████████████████████████| 281.4 MB 33 kB/s \n",
            "\u001b[?25hCollecting py4j==0.10.9.3\n",
            "  Downloading py4j-0.10.9.3-py2.py3-none-any.whl (198 kB)\n",
            "\u001b[K     |████████████████████████████████| 198 kB 53.0 MB/s \n",
            "\u001b[?25hBuilding wheels for collected packages: pyspark\n",
            "  Building wheel for pyspark (setup.py) ... \u001b[?25l\u001b[?25hdone\n",
            "  Created wheel for pyspark: filename=pyspark-3.2.1-py2.py3-none-any.whl size=281853642 sha256=5edd913d2611b562f029b834005e2b01d9bb8892a5cdb50cc30d27f09922f2cc\n",
            "  Stored in directory: /root/.cache/pip/wheels/9f/f5/07/7cd8017084dce4e93e84e92efd1e1d5334db05f2e83bcef74f\n",
            "Successfully built pyspark\n",
            "Installing collected packages: py4j, pyspark\n",
            "Successfully installed py4j-0.10.9.3 pyspark-3.2.1\n"
          ]
        }
      ]
    },
    {
      "cell_type": "code",
      "source": [
        "from pyspark.sql import SparkSession"
      ],
      "metadata": {
        "id": "d1t58uZxoSjY"
      },
      "execution_count": null,
      "outputs": []
    },
    {
      "cell_type": "code",
      "source": [
        "spark = SparkSession.builder.appName('test').getOrCreate()"
      ],
      "metadata": {
        "id": "c9psz9rMocUW"
      },
      "execution_count": null,
      "outputs": []
    },
    {
      "cell_type": "code",
      "source": [
        "spark"
      ],
      "metadata": {
        "colab": {
          "base_uri": "https://localhost:8080/",
          "height": 219
        },
        "id": "RsfIKv_wooZa",
        "outputId": "d5e17ec6-cbfa-4b1d-ad39-fa8b8bf015cb"
      },
      "execution_count": null,
      "outputs": [
        {
          "output_type": "execute_result",
          "data": {
            "text/html": [
              "\n",
              "            <div>\n",
              "                <p><b>SparkSession - in-memory</b></p>\n",
              "                \n",
              "        <div>\n",
              "            <p><b>SparkContext</b></p>\n",
              "\n",
              "            <p><a href=\"http://d3a7f9ffca1a:4040\">Spark UI</a></p>\n",
              "\n",
              "            <dl>\n",
              "              <dt>Version</dt>\n",
              "                <dd><code>v3.2.1</code></dd>\n",
              "              <dt>Master</dt>\n",
              "                <dd><code>local[*]</code></dd>\n",
              "              <dt>AppName</dt>\n",
              "                <dd><code>test</code></dd>\n",
              "            </dl>\n",
              "        </div>\n",
              "        \n",
              "            </div>\n",
              "        "
            ],
            "text/plain": [
              "<pyspark.sql.session.SparkSession at 0x7f16dcbeb890>"
            ]
          },
          "metadata": {},
          "execution_count": 7
        }
      ]
    },
    {
      "cell_type": "code",
      "source": [
        "df_pyspark = spark.read.option('header','True').csv('/content/IPLPlayerAuctionData.csv')"
      ],
      "metadata": {
        "id": "tNOGh9INosML"
      },
      "execution_count": null,
      "outputs": []
    },
    {
      "cell_type": "code",
      "source": [
        "df_pyspark.show()"
      ],
      "metadata": {
        "colab": {
          "base_uri": "https://localhost:8080/"
        },
        "id": "u9iP3IOQpPPX",
        "outputId": "d617f6d3-a7e9-4abc-d285-985def3be3de"
      },
      "execution_count": null,
      "outputs": [
        {
          "output_type": "stream",
          "name": "stdout",
          "text": [
            "+-------------------+-----------+--------+--------------------+----+-------------+\n",
            "|             Player|       Role|  Amount|                Team|Year|Player Origin|\n",
            "+-------------------+-----------+--------+--------------------+----+-------------+\n",
            "|        Aaron Finch|    Batsman|40000000| Sunrisers Hyderabad|2014|     Overseas|\n",
            "|        Aaron Finch|    Batsman|32000000|      Mumbai Indians|2015|     Overseas|\n",
            "|        Aaron Finch|    Batsman|10000000|       Gujarat Lions|2016|     Overseas|\n",
            "|        Aaron Finch|    Batsman|62000000|     Kings XI Punjab|2018|     Overseas|\n",
            "|        Aaron Finch|    Batsman|44000000|Royal Challengers...|2020|     Overseas|\n",
            "|        Abdul Samad|All-Rounder| 2000000| Sunrisers Hyderabad|2020|       Indian|\n",
            "|     Abhijeet Tomar|    Batsman| 4000000|Kolkata Knight Ri...|2022|       Indian|\n",
            "|   Abhimanyu Mithun|     Bowler| 3000000|      Mumbai Indians|2015|       Indian|\n",
            "|   Abhimanyu Mithun|     Bowler| 3000000| Sunrisers Hyderabad|2016|       Indian|\n",
            "|Abhinav Sadarangani|    Batsman|26000000|      Gujarat Titans|2022|       Indian|\n",
            "|     Abhishek Nayar|All-Rounder|50625000| Pune Warriors India|2013|       Indian|\n",
            "|     Abhishek Nayar|All-Rounder|10000000|    Rajasthan Royals|2014|       Indian|\n",
            "|    Abhishek Sharma|All-Rounder| 5500000|    Delhi Daredevils|2018|       Indian|\n",
            "|    Abhishek Sharma|All-Rounder|65000000| Sunrisers Hyderabad|2022|       Indian|\n",
            "|   Abu Nechim Ahmed|     Bowler| 3000000|Royal Challengers...|2014|       Indian|\n",
            "|         Adam Milne|     Bowler| 7000000|Royal Challengers...|2015|     Overseas|\n",
            "|         Adam Milne|     Bowler|32000000|      Mumbai Indians|2021|     Overseas|\n",
            "|         Adam Milne|     Bowler|19000000| Chennai Super Kings|2022|     Overseas|\n",
            "|         Adam Zampa|     Bowler| 3000000|Rising Pune Super...|2016|     Overseas|\n",
            "|     Aditya Garhwal|All-Rounder| 2500000|Kolkata Knight Ri...|2015|       Indian|\n",
            "+-------------------+-----------+--------+--------------------+----+-------------+\n",
            "only showing top 20 rows\n",
            "\n"
          ]
        }
      ]
    },
    {
      "cell_type": "code",
      "source": [
        "type(df_pyspark)"
      ],
      "metadata": {
        "colab": {
          "base_uri": "https://localhost:8080/"
        },
        "id": "qa7Pr1FipTex",
        "outputId": "637e1dee-effb-48e7-d35b-f53378e5aa97"
      },
      "execution_count": null,
      "outputs": [
        {
          "output_type": "execute_result",
          "data": {
            "text/plain": [
              "pyspark.sql.dataframe.DataFrame"
            ]
          },
          "metadata": {},
          "execution_count": 13
        }
      ]
    },
    {
      "cell_type": "code",
      "source": [
        "df_pyspark.printSchema()    \n",
        "#similar to df.info() in pandas"
      ],
      "metadata": {
        "colab": {
          "base_uri": "https://localhost:8080/"
        },
        "id": "NvZOVZC5p7oH",
        "outputId": "7633f279-8d3a-4db8-cfb3-526b57c48a5a"
      },
      "execution_count": null,
      "outputs": [
        {
          "output_type": "stream",
          "name": "stdout",
          "text": [
            "root\n",
            " |-- Player: string (nullable = true)\n",
            " |-- Role: string (nullable = true)\n",
            " |-- Amount: string (nullable = true)\n",
            " |-- Team: string (nullable = true)\n",
            " |-- Year: string (nullable = true)\n",
            " |-- Player Origin: string (nullable = true)\n",
            "\n"
          ]
        }
      ]
    },
    {
      "cell_type": "code",
      "source": [
        "### READ csv\n",
        "df1 = spark.read.option('header','true').csv('/content/IPLPlayerAuctionData.csv')"
      ],
      "metadata": {
        "id": "RnvIikzTqQtg"
      },
      "execution_count": null,
      "outputs": []
    },
    {
      "cell_type": "code",
      "source": [
        "##  Checking the Schema\n",
        "# dont keep .show() in the dataframe variable else it will throw error like \n",
        "\"\"\"\n",
        "  ---------------------------------------------------------------------------\n",
        "  AttributeError                            Traceback (most recent call last)\n",
        "  <ipython-input-18-0396c7b83648> in <module>()\n",
        "        1 ##  Checking the Schema\n",
        "  ----> 2 df1.printSchema()\n",
        "\n",
        "  AttributeError: 'NoneType' object has no attribute 'printSchema'\n",
        "\"\"\"\n",
        "\n",
        "df1.printSchema()"
      ],
      "metadata": {
        "colab": {
          "base_uri": "https://localhost:8080/"
        },
        "id": "F5ed9W0Cq7qr",
        "outputId": "5bbc2be3-13ad-48eb-c528-4e921b79d171"
      },
      "execution_count": null,
      "outputs": [
        {
          "output_type": "stream",
          "name": "stdout",
          "text": [
            "root\n",
            " |-- Player: string (nullable = true)\n",
            " |-- Role: string (nullable = true)\n",
            " |-- Amount: string (nullable = true)\n",
            " |-- Team: string (nullable = true)\n",
            " |-- Year: string (nullable = true)\n",
            " |-- Player Origin: string (nullable = true)\n",
            "\n"
          ]
        }
      ]
    },
    {
      "cell_type": "code",
      "source": [
        "# if we dont want every object to be a string we can use inferSchema option while reading the csv\n",
        "\n",
        "df2 = spark.read.option('header','true').csv('/content/IPLPlayerAuctionData.csv', inferSchema=True)\n",
        "df2.printSchema()"
      ],
      "metadata": {
        "colab": {
          "base_uri": "https://localhost:8080/"
        },
        "id": "-FCR-DtjrH8H",
        "outputId": "3cc5dd7b-752d-4502-cbb8-87bbc8e4ea0d"
      },
      "execution_count": null,
      "outputs": [
        {
          "output_type": "stream",
          "name": "stdout",
          "text": [
            "root\n",
            " |-- Player: string (nullable = true)\n",
            " |-- Role: string (nullable = true)\n",
            " |-- Amount: integer (nullable = true)\n",
            " |-- Team: string (nullable = true)\n",
            " |-- Year: integer (nullable = true)\n",
            " |-- Player Origin: string (nullable = true)\n",
            "\n"
          ]
        }
      ]
    },
    {
      "cell_type": "code",
      "source": [
        "# other way to read the same thing \n",
        "df3 = spark.read.csv('/content/IPLPlayerAuctionData.csv', header=True, inferSchema=True)\n",
        "df3.show()\n",
        "df3.printSchema()"
      ],
      "metadata": {
        "colab": {
          "base_uri": "https://localhost:8080/"
        },
        "id": "Htg4edNnsPEl",
        "outputId": "729f13cf-5d85-498d-fcec-ed9b857d1951"
      },
      "execution_count": null,
      "outputs": [
        {
          "output_type": "stream",
          "name": "stdout",
          "text": [
            "+-------------------+-----------+--------+--------------------+----+-------------+\n",
            "|             Player|       Role|  Amount|                Team|Year|Player Origin|\n",
            "+-------------------+-----------+--------+--------------------+----+-------------+\n",
            "|        Aaron Finch|    Batsman|40000000| Sunrisers Hyderabad|2014|     Overseas|\n",
            "|        Aaron Finch|    Batsman|32000000|      Mumbai Indians|2015|     Overseas|\n",
            "|        Aaron Finch|    Batsman|10000000|       Gujarat Lions|2016|     Overseas|\n",
            "|        Aaron Finch|    Batsman|62000000|     Kings XI Punjab|2018|     Overseas|\n",
            "|        Aaron Finch|    Batsman|44000000|Royal Challengers...|2020|     Overseas|\n",
            "|        Abdul Samad|All-Rounder| 2000000| Sunrisers Hyderabad|2020|       Indian|\n",
            "|     Abhijeet Tomar|    Batsman| 4000000|Kolkata Knight Ri...|2022|       Indian|\n",
            "|   Abhimanyu Mithun|     Bowler| 3000000|      Mumbai Indians|2015|       Indian|\n",
            "|   Abhimanyu Mithun|     Bowler| 3000000| Sunrisers Hyderabad|2016|       Indian|\n",
            "|Abhinav Sadarangani|    Batsman|26000000|      Gujarat Titans|2022|       Indian|\n",
            "|     Abhishek Nayar|All-Rounder|50625000| Pune Warriors India|2013|       Indian|\n",
            "|     Abhishek Nayar|All-Rounder|10000000|    Rajasthan Royals|2014|       Indian|\n",
            "|    Abhishek Sharma|All-Rounder| 5500000|    Delhi Daredevils|2018|       Indian|\n",
            "|    Abhishek Sharma|All-Rounder|65000000| Sunrisers Hyderabad|2022|       Indian|\n",
            "|   Abu Nechim Ahmed|     Bowler| 3000000|Royal Challengers...|2014|       Indian|\n",
            "|         Adam Milne|     Bowler| 7000000|Royal Challengers...|2015|     Overseas|\n",
            "|         Adam Milne|     Bowler|32000000|      Mumbai Indians|2021|     Overseas|\n",
            "|         Adam Milne|     Bowler|19000000| Chennai Super Kings|2022|     Overseas|\n",
            "|         Adam Zampa|     Bowler| 3000000|Rising Pune Super...|2016|     Overseas|\n",
            "|     Aditya Garhwal|All-Rounder| 2500000|Kolkata Knight Ri...|2015|       Indian|\n",
            "+-------------------+-----------+--------+--------------------+----+-------------+\n",
            "only showing top 20 rows\n",
            "\n",
            "root\n",
            " |-- Player: string (nullable = true)\n",
            " |-- Role: string (nullable = true)\n",
            " |-- Amount: integer (nullable = true)\n",
            " |-- Team: string (nullable = true)\n",
            " |-- Year: integer (nullable = true)\n",
            " |-- Player Origin: string (nullable = true)\n",
            "\n"
          ]
        }
      ]
    },
    {
      "cell_type": "code",
      "source": [
        "# get column names\n",
        "\n",
        "df3.columns"
      ],
      "metadata": {
        "colab": {
          "base_uri": "https://localhost:8080/"
        },
        "id": "xpBKZOdksuMc",
        "outputId": "d797ee14-d89c-4b8b-ca39-a9cd5076731a"
      },
      "execution_count": null,
      "outputs": [
        {
          "output_type": "execute_result",
          "data": {
            "text/plain": [
              "['Player', 'Role', 'Amount', 'Team', 'Year', 'Player Origin']"
            ]
          },
          "metadata": {},
          "execution_count": 27
        }
      ]
    },
    {
      "cell_type": "code",
      "source": [
        "#head will give result in list format\n",
        "df3.head(5)"
      ],
      "metadata": {
        "colab": {
          "base_uri": "https://localhost:8080/"
        },
        "id": "EMTyMb0rtkSL",
        "outputId": "f7f54d33-6cdb-4958-aa18-7b98a66b7635"
      },
      "execution_count": null,
      "outputs": [
        {
          "output_type": "execute_result",
          "data": {
            "text/plain": [
              "[Row(Player='Aaron Finch', Role='Batsman', Amount=40000000, Team='Sunrisers Hyderabad', Year=2014, Player Origin='Overseas'),\n",
              " Row(Player='Aaron Finch', Role='Batsman', Amount=32000000, Team='Mumbai Indians', Year=2015, Player Origin='Overseas'),\n",
              " Row(Player='Aaron Finch', Role='Batsman', Amount=10000000, Team='Gujarat Lions', Year=2016, Player Origin='Overseas'),\n",
              " Row(Player='Aaron Finch', Role='Batsman', Amount=62000000, Team='Kings XI Punjab', Year=2018, Player Origin='Overseas'),\n",
              " Row(Player='Aaron Finch', Role='Batsman', Amount=44000000, Team='Royal Challengers Bangalore', Year=2020, Player Origin='Overseas')]"
            ]
          },
          "metadata": {},
          "execution_count": 34
        }
      ]
    },
    {
      "cell_type": "code",
      "source": [
        "# selecting specific columns\n",
        "# select with return Dataframe\n",
        "df3.select('Player','Role','Team').show()\n",
        "\n",
        "#slicing doesn't work with pyspark Dataframe\n",
        "# we cant do df3['Player','Role']"
      ],
      "metadata": {
        "colab": {
          "base_uri": "https://localhost:8080/"
        },
        "id": "4VrOiHWztGxh",
        "outputId": "a766d2b5-3039-41bb-da38-1aba79f8a7bf"
      },
      "execution_count": null,
      "outputs": [
        {
          "output_type": "stream",
          "name": "stdout",
          "text": [
            "+-------------------+-----------+--------------------+\n",
            "|             Player|       Role|                Team|\n",
            "+-------------------+-----------+--------------------+\n",
            "|        Aaron Finch|    Batsman| Sunrisers Hyderabad|\n",
            "|        Aaron Finch|    Batsman|      Mumbai Indians|\n",
            "|        Aaron Finch|    Batsman|       Gujarat Lions|\n",
            "|        Aaron Finch|    Batsman|     Kings XI Punjab|\n",
            "|        Aaron Finch|    Batsman|Royal Challengers...|\n",
            "|        Abdul Samad|All-Rounder| Sunrisers Hyderabad|\n",
            "|     Abhijeet Tomar|    Batsman|Kolkata Knight Ri...|\n",
            "|   Abhimanyu Mithun|     Bowler|      Mumbai Indians|\n",
            "|   Abhimanyu Mithun|     Bowler| Sunrisers Hyderabad|\n",
            "|Abhinav Sadarangani|    Batsman|      Gujarat Titans|\n",
            "|     Abhishek Nayar|All-Rounder| Pune Warriors India|\n",
            "|     Abhishek Nayar|All-Rounder|    Rajasthan Royals|\n",
            "|    Abhishek Sharma|All-Rounder|    Delhi Daredevils|\n",
            "|    Abhishek Sharma|All-Rounder| Sunrisers Hyderabad|\n",
            "|   Abu Nechim Ahmed|     Bowler|Royal Challengers...|\n",
            "|         Adam Milne|     Bowler|Royal Challengers...|\n",
            "|         Adam Milne|     Bowler|      Mumbai Indians|\n",
            "|         Adam Milne|     Bowler| Chennai Super Kings|\n",
            "|         Adam Zampa|     Bowler|Rising Pune Super...|\n",
            "|     Aditya Garhwal|All-Rounder|Kolkata Knight Ri...|\n",
            "+-------------------+-----------+--------------------+\n",
            "only showing top 20 rows\n",
            "\n"
          ]
        }
      ]
    },
    {
      "cell_type": "code",
      "source": [
        "# checking datatypes\n",
        "df3.dtypes"
      ],
      "metadata": {
        "colab": {
          "base_uri": "https://localhost:8080/"
        },
        "id": "3vjPGYzRtfoo",
        "outputId": "03c22805-4e04-4d38-abf9-c44b3bc91375"
      },
      "execution_count": null,
      "outputs": [
        {
          "output_type": "execute_result",
          "data": {
            "text/plain": [
              "[('Player', 'string'),\n",
              " ('Role', 'string'),\n",
              " ('Amount', 'int'),\n",
              " ('Team', 'string'),\n",
              " ('Year', 'int'),\n",
              " ('Player Origin', 'string')]"
            ]
          },
          "metadata": {},
          "execution_count": 37
        }
      ]
    },
    {
      "cell_type": "code",
      "source": [
        "# describe option works similar to Pandas\n",
        "# df3.describe()\n",
        "df3.describe().show()"
      ],
      "metadata": {
        "colab": {
          "base_uri": "https://localhost:8080/"
        },
        "id": "Fv12B0eou3Sx",
        "outputId": "df8ae429-a98e-42a7-b795-6976120b6ff2"
      },
      "execution_count": null,
      "outputs": [
        {
          "output_type": "stream",
          "name": "stdout",
          "text": [
            "+-------+------------------+-------------+--------------------+-------------------+------------------+-------------+\n",
            "|summary|            Player|         Role|              Amount|               Team|              Year|Player Origin|\n",
            "+-------+------------------+-------------+--------------------+-------------------+------------------+-------------+\n",
            "|  count|               970|          970|                 970|                970|               969|          970|\n",
            "|   mean|              null|         null| 2.105451030927835E7|               null|2017.9102167182662|         null|\n",
            "| stddev|              null|         null|2.8000908315696165E7|               null| 2.964526646550613|         null|\n",
            "|    min|       Aaron Finch|  All-Rounder|             1000000|Chennai Super Kings|              2013|       Indian|\n",
            "|    max|Zahir Khan Pakteen|Wicket Keeper|           162500000|Sunrisers Hyderabad|              2022|     Overseas|\n",
            "+-------+------------------+-------------+--------------------+-------------------+------------------+-------------+\n",
            "\n"
          ]
        }
      ]
    },
    {
      "cell_type": "code",
      "source": [
        "# adding columns in Pyspark Dataframe\n",
        "\"\"\"\n",
        "  (colName: str, col: Column) -> DataFrame\n",
        "  Returns a new DataFrame by adding a column or replacing the\n",
        "  existing column that has the same name.\n",
        "\n",
        "  The column expression must be an expression over this DataFrame; attempting to add\n",
        "  a column from some other DataFrame will raise an error.\n",
        "\"\"\"\n",
        "df4 = df3.withColumn('Addding Random Column at end (year+2)',df3['year']+2)\n",
        "df4.show()"
      ],
      "metadata": {
        "colab": {
          "base_uri": "https://localhost:8080/"
        },
        "id": "7-1g6yh1vGtw",
        "outputId": "82e3296c-14de-46dd-97ad-476d27dd76a9"
      },
      "execution_count": null,
      "outputs": [
        {
          "output_type": "stream",
          "name": "stdout",
          "text": [
            "+-------------------+-----------+--------+--------------------+----+-------------+-------------------------------------+\n",
            "|             Player|       Role|  Amount|                Team|Year|Player Origin|Addding Random Column at end (year+2)|\n",
            "+-------------------+-----------+--------+--------------------+----+-------------+-------------------------------------+\n",
            "|        Aaron Finch|    Batsman|40000000| Sunrisers Hyderabad|2014|     Overseas|                                 2016|\n",
            "|        Aaron Finch|    Batsman|32000000|      Mumbai Indians|2015|     Overseas|                                 2017|\n",
            "|        Aaron Finch|    Batsman|10000000|       Gujarat Lions|2016|     Overseas|                                 2018|\n",
            "|        Aaron Finch|    Batsman|62000000|     Kings XI Punjab|2018|     Overseas|                                 2020|\n",
            "|        Aaron Finch|    Batsman|44000000|Royal Challengers...|2020|     Overseas|                                 2022|\n",
            "|        Abdul Samad|All-Rounder| 2000000| Sunrisers Hyderabad|2020|       Indian|                                 2022|\n",
            "|     Abhijeet Tomar|    Batsman| 4000000|Kolkata Knight Ri...|2022|       Indian|                                 2024|\n",
            "|   Abhimanyu Mithun|     Bowler| 3000000|      Mumbai Indians|2015|       Indian|                                 2017|\n",
            "|   Abhimanyu Mithun|     Bowler| 3000000| Sunrisers Hyderabad|2016|       Indian|                                 2018|\n",
            "|Abhinav Sadarangani|    Batsman|26000000|      Gujarat Titans|2022|       Indian|                                 2024|\n",
            "|     Abhishek Nayar|All-Rounder|50625000| Pune Warriors India|2013|       Indian|                                 2015|\n",
            "|     Abhishek Nayar|All-Rounder|10000000|    Rajasthan Royals|2014|       Indian|                                 2016|\n",
            "|    Abhishek Sharma|All-Rounder| 5500000|    Delhi Daredevils|2018|       Indian|                                 2020|\n",
            "|    Abhishek Sharma|All-Rounder|65000000| Sunrisers Hyderabad|2022|       Indian|                                 2024|\n",
            "|   Abu Nechim Ahmed|     Bowler| 3000000|Royal Challengers...|2014|       Indian|                                 2016|\n",
            "|         Adam Milne|     Bowler| 7000000|Royal Challengers...|2015|     Overseas|                                 2017|\n",
            "|         Adam Milne|     Bowler|32000000|      Mumbai Indians|2021|     Overseas|                                 2023|\n",
            "|         Adam Milne|     Bowler|19000000| Chennai Super Kings|2022|     Overseas|                                 2024|\n",
            "|         Adam Zampa|     Bowler| 3000000|Rising Pune Super...|2016|     Overseas|                                 2018|\n",
            "|     Aditya Garhwal|All-Rounder| 2500000|Kolkata Knight Ri...|2015|       Indian|                                 2017|\n",
            "+-------------------+-----------+--------+--------------------+----+-------------+-------------------------------------+\n",
            "only showing top 20 rows\n",
            "\n"
          ]
        }
      ]
    },
    {
      "cell_type": "code",
      "source": [
        "# dropping Columns \n",
        "'''\n",
        "  (cols: ColumnOrName) -> DataFrame\n",
        "  cols: str or :class:`Column`\n",
        "\n",
        "  Returns a new DataFrame that drops the specified column.\n",
        "  This is a no-op if schema doesn't contain the given column name(s).\n",
        "\n",
        "  Parameters\n",
        "'''\n",
        "df5 = df4.drop('Addding Random Column at end (year+2)')\n",
        "df5.show()"
      ],
      "metadata": {
        "colab": {
          "base_uri": "https://localhost:8080/"
        },
        "id": "xbHGgQLfwS_V",
        "outputId": "2f490d63-ccf7-4821-8e20-249597217899"
      },
      "execution_count": null,
      "outputs": [
        {
          "output_type": "stream",
          "name": "stdout",
          "text": [
            "+-------------------+-----------+--------+--------------------+----+-------------+\n",
            "|             Player|       Role|  Amount|                Team|Year|Player Origin|\n",
            "+-------------------+-----------+--------+--------------------+----+-------------+\n",
            "|        Aaron Finch|    Batsman|40000000| Sunrisers Hyderabad|2014|     Overseas|\n",
            "|        Aaron Finch|    Batsman|32000000|      Mumbai Indians|2015|     Overseas|\n",
            "|        Aaron Finch|    Batsman|10000000|       Gujarat Lions|2016|     Overseas|\n",
            "|        Aaron Finch|    Batsman|62000000|     Kings XI Punjab|2018|     Overseas|\n",
            "|        Aaron Finch|    Batsman|44000000|Royal Challengers...|2020|     Overseas|\n",
            "|        Abdul Samad|All-Rounder| 2000000| Sunrisers Hyderabad|2020|       Indian|\n",
            "|     Abhijeet Tomar|    Batsman| 4000000|Kolkata Knight Ri...|2022|       Indian|\n",
            "|   Abhimanyu Mithun|     Bowler| 3000000|      Mumbai Indians|2015|       Indian|\n",
            "|   Abhimanyu Mithun|     Bowler| 3000000| Sunrisers Hyderabad|2016|       Indian|\n",
            "|Abhinav Sadarangani|    Batsman|26000000|      Gujarat Titans|2022|       Indian|\n",
            "|     Abhishek Nayar|All-Rounder|50625000| Pune Warriors India|2013|       Indian|\n",
            "|     Abhishek Nayar|All-Rounder|10000000|    Rajasthan Royals|2014|       Indian|\n",
            "|    Abhishek Sharma|All-Rounder| 5500000|    Delhi Daredevils|2018|       Indian|\n",
            "|    Abhishek Sharma|All-Rounder|65000000| Sunrisers Hyderabad|2022|       Indian|\n",
            "|   Abu Nechim Ahmed|     Bowler| 3000000|Royal Challengers...|2014|       Indian|\n",
            "|         Adam Milne|     Bowler| 7000000|Royal Challengers...|2015|     Overseas|\n",
            "|         Adam Milne|     Bowler|32000000|      Mumbai Indians|2021|     Overseas|\n",
            "|         Adam Milne|     Bowler|19000000| Chennai Super Kings|2022|     Overseas|\n",
            "|         Adam Zampa|     Bowler| 3000000|Rising Pune Super...|2016|     Overseas|\n",
            "|     Aditya Garhwal|All-Rounder| 2500000|Kolkata Knight Ri...|2015|       Indian|\n",
            "+-------------------+-----------+--------+--------------------+----+-------------+\n",
            "only showing top 20 rows\n",
            "\n"
          ]
        }
      ]
    },
    {
      "cell_type": "code",
      "source": [
        "## Renaming column name\n",
        "df5= df5.withColumnRenamed('Player Origin','Indian/Overseas')\n",
        "df5=df5.withColumnRenamed('Team', 'Franchise')\n",
        "df5.show()"
      ],
      "metadata": {
        "colab": {
          "base_uri": "https://localhost:8080/"
        },
        "id": "m57r9D1SxFIi",
        "outputId": "9588d88a-9cbe-4aaf-f88d-813770a541fe"
      },
      "execution_count": null,
      "outputs": [
        {
          "output_type": "stream",
          "name": "stdout",
          "text": [
            "+-------------------+-----------+--------+--------------------+----+---------------+\n",
            "|             Player|       Role|  Amount|           Franchise|Year|Indian/Overseas|\n",
            "+-------------------+-----------+--------+--------------------+----+---------------+\n",
            "|        Aaron Finch|    Batsman|40000000| Sunrisers Hyderabad|2014|       Overseas|\n",
            "|        Aaron Finch|    Batsman|32000000|      Mumbai Indians|2015|       Overseas|\n",
            "|        Aaron Finch|    Batsman|10000000|       Gujarat Lions|2016|       Overseas|\n",
            "|        Aaron Finch|    Batsman|62000000|     Kings XI Punjab|2018|       Overseas|\n",
            "|        Aaron Finch|    Batsman|44000000|Royal Challengers...|2020|       Overseas|\n",
            "|        Abdul Samad|All-Rounder| 2000000| Sunrisers Hyderabad|2020|         Indian|\n",
            "|     Abhijeet Tomar|    Batsman| 4000000|Kolkata Knight Ri...|2022|         Indian|\n",
            "|   Abhimanyu Mithun|     Bowler| 3000000|      Mumbai Indians|2015|         Indian|\n",
            "|   Abhimanyu Mithun|     Bowler| 3000000| Sunrisers Hyderabad|2016|         Indian|\n",
            "|Abhinav Sadarangani|    Batsman|26000000|      Gujarat Titans|2022|         Indian|\n",
            "|     Abhishek Nayar|All-Rounder|50625000| Pune Warriors India|2013|         Indian|\n",
            "|     Abhishek Nayar|All-Rounder|10000000|    Rajasthan Royals|2014|         Indian|\n",
            "|    Abhishek Sharma|All-Rounder| 5500000|    Delhi Daredevils|2018|         Indian|\n",
            "|    Abhishek Sharma|All-Rounder|65000000| Sunrisers Hyderabad|2022|         Indian|\n",
            "|   Abu Nechim Ahmed|     Bowler| 3000000|Royal Challengers...|2014|         Indian|\n",
            "|         Adam Milne|     Bowler| 7000000|Royal Challengers...|2015|       Overseas|\n",
            "|         Adam Milne|     Bowler|32000000|      Mumbai Indians|2021|       Overseas|\n",
            "|         Adam Milne|     Bowler|19000000| Chennai Super Kings|2022|       Overseas|\n",
            "|         Adam Zampa|     Bowler| 3000000|Rising Pune Super...|2016|       Overseas|\n",
            "|     Aditya Garhwal|All-Rounder| 2500000|Kolkata Knight Ri...|2015|         Indian|\n",
            "+-------------------+-----------+--------+--------------------+----+---------------+\n",
            "only showing top 20 rows\n",
            "\n"
          ]
        }
      ]
    },
    {
      "cell_type": "code",
      "source": [
        ""
      ],
      "metadata": {
        "id": "c8Mu061txhL6"
      },
      "execution_count": null,
      "outputs": []
    }
  ]
}